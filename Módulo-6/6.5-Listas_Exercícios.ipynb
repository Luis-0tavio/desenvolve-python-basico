{
  "metadata": {
    "kernelspec": {
      "name": "python",
      "display_name": "Python (Pyodide)",
      "language": "python"
    },
    "language_info": {
      "codemirror_mode": {
        "name": "python",
        "version": 3
      },
      "file_extension": ".py",
      "mimetype": "text/x-python",
      "name": "python",
      "nbconvert_exporter": "python",
      "pygments_lexer": "ipython3",
      "version": "3.8"
    }
  },
  "nbformat_minor": 5,
  "nbformat": 4,
  "cells": [
    {
      "id": "0d5035b5",
      "cell_type": "markdown",
      "source": "# Listas\n\n## Aulas 6.1 a 6.5 ",
      "metadata": {}
    },
    {
      "id": "0bdece85",
      "cell_type": "markdown",
      "source": "### Q1. \n\nUsando a função embutida ```map``` e criando uma função ```lambda```, transforme uma lista com os raios de múltiplas circunferências em uma nova lista com as respectivas áreas. O cálculo de cada área é dado por: ```pi*(raio**2)```\n- Use a constante pi da biblioteca math \n- Arredonde o resultado para 2 casas decimais\n",
      "metadata": {}
    },
    {
      "id": "0a258eba",
      "cell_type": "code",
      "source": "## Complete a solução\nimport math\nraios = [1.5, 0.8, 2.3, 5.0]\nareas = list(map(lambda r: round(math.pi*(r**2),2),raios))\nprint(areas)\n\n## Complete a solução\n",
      "metadata": {
        "trusted": true
      },
      "outputs": [
        {
          "name": "stdout",
          "output_type": "stream",
          "text": "[7.07, 2.01, 16.62, 78.54]\n"
        }
      ],
      "execution_count": 10
    },
    {
      "id": "649a5082",
      "cell_type": "markdown",
      "source": "### Q2. \n\nCrie uma função customizada e aplique a função embutida ```filter``` para operar em uma lista de listas contendo os lados de múltiplos triângulos. Construa uma nova lista contendo apenas os triângulos equiláteros, ou seja, com os três lados iguais.\n",
      "metadata": {}
    },
    {
      "id": "47cb0573",
      "cell_type": "code",
      "source": "## Crie a função customizada\ndef testa_equilatero(lados):\n     return (lados[0]==lados[1]==lados[2])\n\n### Usando filter, aplique a função customizada aos seguintes triangulos\ntriangulos  = [[2,2,2], [3,4,5], [3,2,2],[4,4,4]]\nequilateros = list(filter(testa_equilatero,triangulos))\nprint(equilateros)",
      "metadata": {
        "trusted": true
      },
      "outputs": [
        {
          "name": "stdout",
          "output_type": "stream",
          "text": "[[2, 2, 2], [4, 4, 4]]\n"
        }
      ],
      "execution_count": 14
    },
    {
      "id": "bb62d219",
      "cell_type": "markdown",
      "source": "### Q3. \nCrie uma função chamada ```ordena_por_comprimento``` que aceite uma lista de strings e a ordene com base no comprimento das strings, do menor para o maior. Utilize a função ```sorte``` e uma expressão ```lambda```.",
      "metadata": {}
    },
    {
      "id": "add41556",
      "cell_type": "code",
      "source": "### crie a função ordena_por_comprimento e retorne a lista resultado\ndef ordena_por_comprimento(lista):\n    return sorted(lista, key=lambda x: len(x))\n    \n    \n\n### aplique sua função à seguinte lista e imprima o resultado\nnomes = [\"Joao\", \"Maria\", \"Jose\", \"Gabriela\", \"Sol\", \"Luna\", \"Bento\", \"Enzo\", \"Fernanda\"]\nprint(ordena_por_comprimento(nomes))\n",
      "metadata": {
        "trusted": true
      },
      "outputs": [
        {
          "name": "stdout",
          "output_type": "stream",
          "text": "['Sol', 'Joao', 'Jose', 'Luna', 'Enzo', 'Maria', 'Bento', 'Gabriela', 'Fernanda']\n"
        }
      ],
      "execution_count": 18
    },
    {
      "id": "8710b1a7",
      "cell_type": "markdown",
      "source": "### Q4.\n\nCrie uma lista de listas (uma matriz de 2 dimensões) de tamanho $n \\times n$, com $n$ dado pelo usuário. Cada elemento da matriz deve ser o produto dos índices da linha pela coluna.\n\nExemplo:\n```\nDigite n: 4\nMatriz:\n[[0, 0, 0, 0],\n [0, 1, 2, 3],\n [0, 2, 4, 6],\n [0, 3, 6, 9]]\n```",
      "metadata": {}
    },
    {
      "id": "0b7ee921",
      "cell_type": "code",
      "source": "# Implemente sua solução aqui\nn=int(input(\"Digite n: \"))\nmatriz=[[i * j for j in range(n)] for i in range(n)]\nprint(\"Matriz: \")\nfor linha in matriz:\n    print(linha)\n        ",
      "metadata": {
        "trusted": true
      },
      "outputs": [
        {
          "output_type": "stream",
          "name": "stdin",
          "text": "Digite n:  4\n"
        },
        {
          "name": "stdout",
          "output_type": "stream",
          "text": "Matriz: \n[[0, 0, 0, 0], [0, 1, 2, 3], [0, 2, 4, 6], [0, 3, 6, 9]]\n"
        }
      ],
      "execution_count": 26
    },
    {
      "id": "f41781df",
      "cell_type": "markdown",
      "source": "### Q5.\n\nDada uma lista de números inteiros, implemente uma função em Python chamada ```pares_unicos``` que encontre e retorne todos os pares únicos de elementos na lista cuja soma seja igual a um determinado valor. Considere que a ordem dos pares não é relevante.",
      "metadata": {}
    },
    {
      "id": "7a76f765",
      "cell_type": "code",
      "source": "# Implemente sua solução aqui\ndef pares_unicos(numeros, soma_objetivo):\n    par = []\n    for i in range(len(numeros)):\n        for j in range(i+1,len(numeros)):\n            if (numeros[i]+numeros[j]==soma_objetivo):\n                par+=[[numeros[i],numeros[j]]]\n        \n    return (par)\n\n# Exemplo de uso:\nnums = [3, 4, 5, 6, 7]\nsoma = 10\nresultado = pares_unicos(nums, soma)\nprint(resultado)  # Saída esperada: [(3, 7), (4, 6)]",
      "metadata": {
        "trusted": true
      },
      "outputs": [
        {
          "name": "stdout",
          "output_type": "stream",
          "text": "[[3, 7], [4, 6]]\n"
        }
      ],
      "execution_count": 43
    },
    {
      "id": "87e44893",
      "cell_type": "markdown",
      "source": "### Q5.\n\nEscreva um programa para encontrar a diferença entre duas listas, incluindo elementos duplicados.\n\nEx:\n```\nListas originais: \n[1, 1, 2, 3, 3, 4, 4, 5, 6, 7]\n[1, 1, 2, 4, 5, 6]\nDiferença entre as listas:\n[3, 3, 4, 7]\n```",
      "metadata": {}
    },
    {
      "id": "7edc027c",
      "cell_type": "code",
      "source": "# Implemente sua solução aqui\n\n#Não consegui",
      "metadata": {
        "trusted": true
      },
      "outputs": [
        {
          "name": "stdout",
          "output_type": "stream",
          "text": "Diferença entre as listas:\n[3, 3, 4, 7]\n"
        }
      ],
      "execution_count": 67
    },
    {
      "id": "f4c4236d",
      "cell_type": "markdown",
      "source": "### Q6.\n\nDada uma lista aleatória, escreva um programa que separa os valores em listas menores de acordo com o tamanho solicitado. Caso não seja possível repartir igualmente a lista original, a última sublista deve conter os elementos remanescentes, como indicado no exemplo a seguir.\n\nNote que seu programa deve continuar executando em um laço infinito até que o usuário informe o tamanho 0 na entrada solicitada.\n\n```\nLista original:\n[12, 45, 23, 67, 78, 90, 45, 32, 100, 76, 38, 62, 73, 29, 83]\n\nTamanho para divisão: 3\nSubslistas:\n[[12, 45, 23], [67, 78, 90], [45, 32, 100], [76, 38, 62], [73, 29, 83]]\n\nTamanho para divisão: 4\nSubslistas: [[12, 45, 23, 67], [78, 90, 45, 32], [100, 76, 38, 62], [73, 29, 83]]\n\nTamanho para divisão: 0\n```",
      "metadata": {}
    },
    {
      "id": "792563de",
      "cell_type": "code",
      "source": "import random\nlista = [random.randint(1,100) for i in range(20)]\n\n# Implemente sua solução aqui\nprint(f\"Lista original: \\n{lista}\")\nx=int(input(\"Tamanho para divisão: \"))\ndiv=[]\nsub=[]\nwhile x!=0:\n    for i in range(0,len(lista),x):\n        if i >= len(lista):\n            break\n        for j in range(i,i+x,1):\n            if j >= len(lista):\n                break\n            sub+=[lista[j]]\n        div+=[sub]\n        sub=[]\n    print(div)\n    div=[]\n    x=int(input(\"\\nTamanho para divisão: \"))\n\n\n",
      "metadata": {
        "trusted": true
      },
      "outputs": [
        {
          "name": "stdout",
          "output_type": "stream",
          "text": "Lista original: \n[66, 39, 88, 2, 100, 51, 78, 17, 17, 36, 72, 25, 77, 18, 18, 83, 8, 25, 40, 53]\n"
        },
        {
          "output_type": "stream",
          "name": "stdin",
          "text": "Tamanho para divisão:  8\n"
        },
        {
          "name": "stdout",
          "output_type": "stream",
          "text": "[[66, 39, 88, 2, 100, 51, 78, 17], [17, 36, 72, 25, 77, 18, 18, 83], [8, 25, 40, 53]]\n"
        },
        {
          "output_type": "stream",
          "name": "stdin",
          "text": "\nTamanho para divisão:  0\n"
        }
      ],
      "execution_count": 91
    },
    {
      "id": "c65be32f",
      "cell_type": "markdown",
      "source": "### Q7.\n\nVocê está desenvolvendo um programa para determinar o vencedor de um jogo da velha. Escreva uma função ```avalia_tabuleiro()``` que recebe uma lista representando o estado atual do tabuleiro e determina se há um vencedor. \n\nA lista terá 3 sublistas, cada uma representando uma linha do tabuleiro. Cada elemento das sublistas pode ser 'X', 'O' ou vazio (' ').\n\nO programa deve imprimir o vencedor ('X', 'O'), se houver um, ou \"Empate\" se não houver vencedor. Um vencedor é determinado se houver três 'X' ou três 'O' em linha (horizontal, vertical ou diagonal).\n\nExemplo:\n```python\ntabuleiro = [\n    ['X', 'O', 'X'],\n    [' ', 'X', 'O'],\n    ['O', ' ', 'O']\n]\n```\nO resultado seria \"Empate\", pois não há um vencedor no exemplo fornecido. \n\nExemplo 2:\n```python\ntabuleiro = [\n    ['O', 'X', 'O'],\n    ['X', 'O', 'X'],\n    ['X', ' ', 'O']\n]\n```\nO resultado seria \"O\", pois 'O' venceu na diagonal central.",
      "metadata": {}
    },
    {
      "id": "720ca24d",
      "cell_type": "code",
      "source": "### Escreva a função avalia_tabuleiro()\ndef avalia_tabuleiro(tab):\n    for linha in tab:\n       if linha[0]==linha[1]==linha[2] != ' ': \n           return linha[0]\n    for col in range(3):\n        if tab[0][col]==tab[1][col]==tab[2][col]:\n            return tab[0][col]\n    if (tab[0][0]==tab[1][1]==tab[2][2]):\n        return tab[0][0]\n    elif (tab[0][2]==tab[1][1]==tab[2][0]):\n        return tab[0][2]\n    else:\n        return \"Empate\"\n### teste a função nos seguintes tabuleiros\n\ntabuleiro1 = [\n    ['X', 'O', 'X'],\n    [' ', 'X', 'O'],\n    ['O', ' ', 'X']\n]\n\ntabuleiro2 = [\n    ['X', 'O', 'O'],\n    ['X', 'X', 'O'],\n    ['X', 'O', 'X']\n]\n\ntabuleiro3 = [\n    [' ', ' ', ' '],\n    ['X', ' ', 'O'],\n    ['O', 'X', 'X']\n]\n\ntabuleiro4 = [\n    ['O', 'O', 'O'],\n    ['X', ' ', 'X'],\n    ['O', 'X', 'X']\n]\n\ntabuleiro5 = [\n    ['X', 'X', 'O'],\n    ['X', ' ', 'O'],\n    ['O', 'O', 'X']\n]\n\nprint(avalia_tabuleiro(tabuleiro1))\nprint(avalia_tabuleiro(tabuleiro2))\nprint(avalia_tabuleiro(tabuleiro3))\nprint(avalia_tabuleiro(tabuleiro4))\nprint(avalia_tabuleiro(tabuleiro5))",
      "metadata": {
        "trusted": true
      },
      "outputs": [
        {
          "name": "stdout",
          "output_type": "stream",
          "text": "X\nX\nEmpate\nO\nEmpate\n"
        }
      ],
      "execution_count": 95
    }
  ]
}