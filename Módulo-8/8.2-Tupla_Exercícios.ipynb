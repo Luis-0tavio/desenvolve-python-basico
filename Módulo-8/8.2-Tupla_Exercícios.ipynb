{
  "metadata": {
    "kernelspec": {
      "name": "python",
      "display_name": "Python (Pyodide)",
      "language": "python"
    },
    "language_info": {
      "codemirror_mode": {
        "name": "python",
        "version": 3
      },
      "file_extension": ".py",
      "mimetype": "text/x-python",
      "name": "python",
      "nbconvert_exporter": "python",
      "pygments_lexer": "ipython3",
      "version": "3.8"
    }
  },
  "nbformat_minor": 5,
  "nbformat": 4,
  "cells": [
    {
      "id": "0d5035b5",
      "cell_type": "markdown",
      "source": "# Tupla\n\n## Aula 8.2",
      "metadata": {}
    },
    {
      "id": "0bdece85",
      "cell_type": "markdown",
      "source": "### Q1. \n\nEscreva uma função ```calcula_area_perimetro``` que recebe **apenas um parâmetro** ```dimensoes``` e calcula a área e o perímetro a partir das dimensões dadas. \n- ```dimensoes``` é uma tupla (largura, comprimento) com as dimensões de um terreno retangular\n- Sua função deve calcular e retornar as seguintes operações\n   - $area = largura \\times comprimento$\n   - $perimetro = 2\\times(largura + comprimento)$\n",
      "metadata": {}
    },
    {
      "id": "0a258eba",
      "cell_type": "code",
      "source": "# Implemente aqui a função calcula_area_perimetro\ndef calcula_area_perimetro(dim):\n    larg,comp=dim\n    return (larg*comp,2*(larg*comp))\n",
      "metadata": {
        "trusted": true
      },
      "outputs": [],
      "execution_count": 2
    },
    {
      "id": "e1866c04",
      "cell_type": "code",
      "source": "# Complete o exemplo de uso abaixo\nlargura = 5\ncomprimento = 7\ndim= largura,comprimento\nretorno = calcula_area_perimetro(dim)  ## complete aqui a chamada da função\nprint(retorno, type(retorno))",
      "metadata": {
        "trusted": true
      },
      "outputs": [
        {
          "name": "stdout",
          "output_type": "stream",
          "text": "(35, 70) <class 'tuple'>\n"
        }
      ],
      "execution_count": 3
    },
    {
      "id": "cbdcb986",
      "cell_type": "markdown",
      "source": "### Q2.\n\nDada uma string, imprima todas as vogais que aparecem na string, bem como todos os índices onde elas ocorrem. Para isso, use a função ```enumerate```.\n",
      "metadata": {}
    },
    {
      "id": "1f6b1f2d",
      "cell_type": "code",
      "source": "frase = \"O rato roeu a roupa da Alice\"\n\nfor indice,letra in enumerate(frase):\n    if letra in \"aeiou\":\n        print(indice, \"-\" , letra)\n# Implemente aqui sua solução",
      "metadata": {
        "trusted": true
      },
      "outputs": [
        {
          "name": "stdout",
          "output_type": "stream",
          "text": "3 - a\n5 - o\n8 - o\n9 - e\n10 - u\n12 - a\n15 - o\n16 - u\n18 - a\n21 - a\n25 - i\n27 - e\n"
        }
      ],
      "execution_count": 4
    },
    {
      "id": "8d46663f",
      "cell_type": "markdown",
      "source": "### Q3.\n\nEscreva uma função em Python chamada ```ordenar_tuplas``` que recebe uma lista de tuplas, cada uma contendo o nome de um aluno e sua respectiva média, e retorna uma nova lista ordenada em ordem decrescente de médias.",
      "metadata": {}
    },
    {
      "id": "469f2e6e",
      "cell_type": "code",
      "source": "# Implemente aqui a função ordenar_tuplas\n\ndef ordenar_tuplas(lista):\n    return sorted(lista, key=lambda x: x[1], reverse=True)",
      "metadata": {
        "trusted": true
      },
      "outputs": [],
      "execution_count": 7
    },
    {
      "id": "1972c62b",
      "cell_type": "code",
      "source": "# Exemplo de uso:\nalunos_notas = [('Alice', 8.5), ('Bob', 7.2), ('Charlie', 9.0), ('David', 8.8)]\nresultado = ordenar_tuplas(alunos_notas)\nprint(resultado)\n# Saída esperada: [('Charlie', 9.0), ('David', 8.8), ('Alice', 8.5), ('Bob', 7.2)]",
      "metadata": {
        "trusted": true
      },
      "outputs": [
        {
          "name": "stdout",
          "output_type": "stream",
          "text": "[('Charlie', 9.0), ('David', 8.8), ('Alice', 8.5), ('Bob', 7.2)]\n"
        }
      ],
      "execution_count": 8
    },
    {
      "id": "e0268fae",
      "cell_type": "markdown",
      "source": "### Q4.\n\nEscreva uma função em Python chamada ```comprimir_tuplas``` que recebe uma lista de tuplas, cada uma contendo uma palavra e um número, e retorna uma nova lista de tuplas onde palavras idênticas são agrupadas e seus números são somados.\n\n",
      "metadata": {}
    },
    {
      "id": "30a221f3",
      "cell_type": "code",
      "source": "# Implemente aqui a função comprimir_tuplas\ndef comprimir_tuplas(lista):\n    resultado=[]\n    for fruta,qnt in lista:\n            for i, (fruit, quant) in enumerate(resultado):\n                if fruta in resultado[i][0]:\n                    resultado[i] = (fruit, quant + qnt) \n                    break\n            else:\n                resultado+=[(fruta,qnt)]\n    return resultado",
      "metadata": {
        "trusted": true
      },
      "outputs": [],
      "execution_count": 20
    },
    {
      "id": "80972bac",
      "cell_type": "code",
      "source": "# Exemplo de uso:\ntuplas_originais = [('maçã', 3), ('banana', 2), ('maçã', 5), ('laranja', 1), ('banana', 3)]\nresultado = comprimir_tuplas(tuplas_originais)\nprint(resultado)\n# Saída esperada: [('maçã', 8), ('banana', 5), ('laranja', 1)]",
      "metadata": {
        "trusted": true
      },
      "outputs": [
        {
          "name": "stdout",
          "output_type": "stream",
          "text": "[('maçã', 8), ('banana', 5), ('laranja', 1)]\n"
        }
      ],
      "execution_count": 21
    },
    {
      "id": "649a5082",
      "cell_type": "markdown",
      "source": "### Q5. \n\n- Escreva um script que peça o nome e a idade de todos na fila de uma balada. Crie uma lista de tuplas com os pares ```(nome, idade)``` de cada um. \n- Em seguida crie e imprima duas tuplas apenas com os nomes, uma com os menores de idade que não poderão entrar, e uma com os maiores de idade (```idade >= 18```). \n\n",
      "metadata": {}
    },
    {
      "id": "47cb0573",
      "cell_type": "code",
      "source": "## Implemente aqui sua solução\nfila=[]\nx=1\nwhile x!='0':\n    x=input(\"Digite o nome(\\'0\\' para parar a inserção): \")\n    if x=='0': \n        break\n    y=int(input(\"Digite a idade: \"))\n    fila+=[(x,y)]\n\npode=[]\nnpode=[]\n\nfor nome,idade in fila:\n    if idade<18:\n        npode+=[(nome,idade)]\n    else:\n        pode+=[(nome,idade)]\nprint(f\"Pode entrar:\\n{pode}\\nNão pode entrar:\\n{npode}\")\n        ",
      "metadata": {
        "trusted": true,
        "scrolled": true
      },
      "outputs": [
        {
          "output_type": "stream",
          "name": "stdin",
          "text": "Digite o nome:('0' para parar a inserção)  luis\nDigite a idade:  18\nDigite o nome:('0' para parar a inserção)  ana\nDigite a idade:  18\nDigite o nome:('0' para parar a inserção)  marcos\nDigite a idade:  19\nDigite o nome:('0' para parar a inserção)  saulo\nDigite a idade:  17\nDigite o nome:('0' para parar a inserção)  0\n"
        },
        {
          "name": "stdout",
          "output_type": "stream",
          "text": "Pode entrar:\n[('luis', 18), ('ana', 18), ('marcos', 19)]\nNão pode entrar:\n[('saulo', 17)]\n"
        }
      ],
      "execution_count": 28
    },
    {
      "id": "6020a9f1-6e79-4822-9d94-fcbec1640a79",
      "cell_type": "code",
      "source": "",
      "metadata": {
        "trusted": true
      },
      "outputs": [],
      "execution_count": null
    }
  ]
}