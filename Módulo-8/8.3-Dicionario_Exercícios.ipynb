{
  "metadata": {
    "kernelspec": {
      "name": "python",
      "display_name": "Python (Pyodide)",
      "language": "python"
    },
    "language_info": {
      "codemirror_mode": {
        "name": "python",
        "version": 3
      },
      "file_extension": ".py",
      "mimetype": "text/x-python",
      "name": "python",
      "nbconvert_exporter": "python",
      "pygments_lexer": "ipython3",
      "version": "3.8"
    }
  },
  "nbformat_minor": 5,
  "nbformat": 4,
  "cells": [
    {
      "id": "0d5035b5",
      "cell_type": "markdown",
      "source": "# Dicionários\n\n## Aula 8.3",
      "metadata": {}
    },
    {
      "id": "0bdece85",
      "cell_type": "markdown",
      "source": "### Q1. \n\nEscreva uma função em Python chamada ```contagem_caracteres``` que recebe uma string como parâmetro e retorna um dicionário onde as chaves são os caracteres presentes na string e os valores são a contagem de cada caractere.\n",
      "metadata": {}
    },
    {
      "id": "09a9845d",
      "cell_type": "code",
      "source": "# Implemente aqui a função contagem_caracteres",
      "metadata": {},
      "outputs": [],
      "execution_count": null
    },
    {
      "id": "0a258eba",
      "cell_type": "code",
      "source": "# Exemplo de uso:\nfrase = \"python programming\"\nresultado = contagem_caracteres(frase)\nprint(resultado)",
      "metadata": {},
      "outputs": [],
      "execution_count": null
    },
    {
      "id": "649a5082",
      "cell_type": "markdown",
      "source": "### Q2. \n\nBaixe o arquivo contendo o roteiro do filme brasileiro \"Estômago\" e salve em seu computador com o nome \"estomago.txt\".\n\nhttps://aplauso.imprensaoficial.com.br/edicoes/12.0.813.502/12.0.813.502.txt\n\n- Escreva um script python que abre o arquivo de texto e cria um dicionário contando a quantidade de vezes que cada palavra aparece no texto.\n- Em seguida ordene o dicionário de forma decrescente pelos valores. Dessa maneira ele irá apresentar as palavras mais frequentes no início.\n- Apresente na tela o dicionário ordenado\n",
      "metadata": {}
    },
    {
      "id": "47cb0573",
      "cell_type": "code",
      "source": "# Implemente aqui sua solução\nimport os \nimport os \ndic={}\n\nwith open((os.path.join(os.path.dirname(os.path.abspath(__file__)), \"estomago.txt\")),'r',encoding=\"utf-8\") as f:\n    palavras=f.read().lower().replace(\",\", \" \").replace(\".\", \" \").replace(\"!\", \" \").replace(\"?\", \" \").replace(\"©\", \" \").replace(\"/\", \" \").replace(\"\\\\\", \" \").replace(\":\", \" \").replace(\"\\n\",\"\").replace(\"|\",\"\").replace(\"(\", \" \").replace(\")\", \" \").strip().split(\" \")\nfor palavra in palavras:\n    if palavra not in dic:\n        dic[palavra]=1\n    else:\n        dic[palavra]+=1\nfor palavra,vezes in dic.items():\n    print(palavra,\"-\",vezes)",
      "metadata": {},
      "outputs": [],
      "execution_count": null
    },
    {
      "id": "bb62d219",
      "cell_type": "markdown",
      "source": "### Q3. \n\nCrie uma função chamada ```mesclar_dicionarios``` que recebe dois dicionários como parâmetros e retorna um novo dicionário contendo a fusão dos dois. Se houver chaves comuns, o maior valor deve prevalecer.",
      "metadata": {}
    },
    {
      "id": "f4363612",
      "cell_type": "code",
      "source": "# Implemente aqui a função mesclar_dicionarios\ndef mesclar_dicionarios(dic1,dic2):\n    res={}\n    for x,xv in dic1.items():\n        if x not in res:\n            res[x]=xv\n    for y,yv in dic2.items():\n        if y not in res:\n            res[y]=yv\n        else:\n            if res[y]<yv:\n                res[y]=yv\n    \n    return res",
      "metadata": {
        "trusted": true
      },
      "outputs": [],
      "execution_count": 9
    },
    {
      "id": "add41556",
      "cell_type": "code",
      "source": "# Exemplo de uso:\ndicionario1 = {'a': 1, 'b': 2, 'c': 3}\ndicionario2 = {'b': 4, 'd': 5}\nresultado = mesclar_dicionarios(dicionario1, dicionario2)\nprint(resultado)\n# Saída esperada: {'a': 1, 'b': 4, 'c': 3, 'd': 5}",
      "metadata": {
        "trusted": true
      },
      "outputs": [
        {
          "name": "stdout",
          "output_type": "stream",
          "text": "{'a': 1, 'b': 4, 'c': 3, 'd': 5}\n"
        }
      ],
      "execution_count": 10
    },
    {
      "id": "8710b1a7",
      "cell_type": "markdown",
      "source": "### Q4.\n\nDesenvolva uma função em Python chamada ```filtrar_dicionario``` que recebe um dicionário e uma lista de chaves como parâmetros e retorna um novo dicionário contendo apenas as chaves que estão presentes na lista.",
      "metadata": {}
    },
    {
      "id": "0b7ee921",
      "cell_type": "code",
      "source": "# Implemente aqui a função filtrar_dicionario\ndef filtrar_dicionario(dic,chaves):\n    resultado={}\n    for letra,num in dic.items():\n        for key in chaves:\n            if key==letra:\n                resultado[key]=num\n    return resultado",
      "metadata": {
        "trusted": true
      },
      "outputs": [],
      "execution_count": 12
    },
    {
      "id": "ebc131f6",
      "cell_type": "code",
      "source": "# Exemplo de uso:\ndados = {'a': 1, 'b': 2, 'c': 3, 'd': 4, 'e': 5}\nchaves_filtradas = ['a', 'c', 'e']\nresultado = filtrar_dicionario(dados, chaves_filtradas)\nprint(resultado)\n# Saída esperada: {'a': 1, 'c': 3, 'e': 5}",
      "metadata": {
        "trusted": true
      },
      "outputs": [
        {
          "name": "stdout",
          "output_type": "stream",
          "text": "{'a': 1, 'c': 3, 'e': 5}\n"
        }
      ],
      "execution_count": 13
    },
    {
      "id": "3203c51e",
      "cell_type": "markdown",
      "source": "### Q5.\n\nVocê está responsável por analisar os resultados de uma votação. Cada voto é representado por um dicionário com o nome do candidato e a quantidade de votos que recebeu em uma determinada sessão eleitoral. Escreva uma função chamada ```resultado_votacao``` que recebe uma lista de dicionários de votos e retorna um dicionário onde as chaves são os nomes dos candidatos, e os valores são tuplas ```(total, percentual)``` com o total de votos recebidos por cada candidato e o percentual em relação à soma total de votos em todos os candidatos. ",
      "metadata": {}
    },
    {
      "id": "2c856eee",
      "cell_type": "code",
      "source": "# Implemente aqui a função resultado_votacao\ndef resultado_votacao(votos):\n    resultado={'candidato_A': [0,0], 'candidato_B': [0,0], 'candidato_C': [0,0]}\n    total=0\n    for urna in votos:\n        for candidato,voto in urna.items():\n            total+=voto\n            resultado[candidato][0]+=voto\n    for candidato in resultado:\n        resultado[candidato][1]=round(resultado[candidato][0]/total*100,2)\n        resultado[candidato]=tuple(resultado[candidato])    \n    return resultado\n            ",
      "metadata": {
        "trusted": true
      },
      "outputs": [],
      "execution_count": 28
    },
    {
      "id": "ff2044de",
      "cell_type": "code",
      "source": "# Exemplo de uso:\nvotos = [\n    {'candidato_A': 120, 'candidato_B': 85, 'candidato_C': 90},\n    {'candidato_A': 110, 'candidato_B': 95, 'candidato_C': 80},\n    {'candidato_A': 130, 'candidato_B': 78, 'candidato_C': 105},\n]\nresultado = resultado_votacao(votos)\nprint(resultado)  # Saída esperada: {'candidato_A': (360, 40.31), 'candidato_B': (258, 28.89), \n                                ###  'candidato_C': (275, 30.79)}",
      "metadata": {
        "trusted": true
      },
      "outputs": [
        {
          "name": "stdout",
          "output_type": "stream",
          "text": "{'candidato_A': (360, 40.31), 'candidato_B': (258, 28.89), 'candidato_C': (275, 30.8)}\n"
        }
      ],
      "execution_count": 29
    }
  ]
}